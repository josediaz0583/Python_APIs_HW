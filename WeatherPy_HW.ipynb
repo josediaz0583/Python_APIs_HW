{
 "cells": [
  {
   "cell_type": "code",
   "execution_count": 95,
   "metadata": {
    "collapsed": true
   },
   "outputs": [],
   "source": [
    "# Dependencies\n",
    "import numpy as np\n",
    "import pandas as pd\n",
    "import matplotlib.pyplot as plt\n",
    "from matplotlib import style\n",
    "import requests\n",
    "import time\n",
    "import json\n",
    "import requests"
   ]
  },
  {
   "cell_type": "code",
   "execution_count": 108,
   "metadata": {},
   "outputs": [
    {
     "name": "stdout",
     "output_type": "stream",
     "text": [
      "http://api.openweathermap.org/data/2.5/weather?q=London&APPID=6f44dc7bc969bd65aeb99382c217167a\n"
     ]
    }
   ],
   "source": [
    "weather_key = \"6f44dc7bc969bd65aeb99382c217167a\"\n",
    "\n",
    "target_city = \"\"\n",
    "\n",
    "weather_url = \"http://api.openweathermap.org/data/2.5/weather?q=London&APPID=6f44dc7bc969bd65aeb99382c217167a\"\n",
    "#weather_url = \"http://api.openweathermap.org/data/2.5/weather?q=%&APPID=6f44dc7bc969bd65aeb99382c217167a\"\n",
    "print(weather_url)"
   ]
  },
  {
   "cell_type": "code",
   "execution_count": 109,
   "metadata": {
    "scrolled": true
   },
   "outputs": [
    {
     "name": "stdout",
     "output_type": "stream",
     "text": [
      "{'coord': {'lon': -0.13, 'lat': 51.51}, 'weather': [{'id': 801, 'main': 'Clouds', 'description': 'few clouds', 'icon': '02n'}], 'base': 'stations', 'main': {'temp': 274.51, 'pressure': 1033, 'humidity': 69, 'temp_min': 273.15, 'temp_max': 276.15}, 'visibility': 10000, 'wind': {'speed': 2.1, 'deg': 290}, 'clouds': {'all': 20}, 'dt': 1521589800, 'sys': {'type': 1, 'id': 5091, 'message': 0.0061, 'country': 'GB', 'sunrise': 1521612071, 'sunset': 1521656109}, 'id': 2643743, 'name': 'London', 'cod': 200}\n"
     ]
    }
   ],
   "source": [
    "geo_data = requests.get(weather_url).json()\n",
    "print(geo_data)"
   ]
  },
  {
   "cell_type": "code",
   "execution_count": 98,
   "metadata": {
    "scrolled": true
   },
   "outputs": [
    {
     "name": "stdout",
     "output_type": "stream",
     "text": [
      "{\n",
      "    \"base\": \"stations\",\n",
      "    \"clouds\": {\n",
      "        \"all\": 20\n",
      "    },\n",
      "    \"cod\": 200,\n",
      "    \"coord\": {\n",
      "        \"lat\": 51.51,\n",
      "        \"lon\": -0.13\n",
      "    },\n",
      "    \"dt\": 1521589800,\n",
      "    \"id\": 2643743,\n",
      "    \"main\": {\n",
      "        \"humidity\": 69,\n",
      "        \"pressure\": 1033,\n",
      "        \"temp\": 274.51,\n",
      "        \"temp_max\": 276.15,\n",
      "        \"temp_min\": 273.15\n",
      "    },\n",
      "    \"name\": \"London\",\n",
      "    \"sys\": {\n",
      "        \"country\": \"GB\",\n",
      "        \"id\": 5091,\n",
      "        \"message\": 0.0061,\n",
      "        \"sunrise\": 1521612071,\n",
      "        \"sunset\": 1521656109,\n",
      "        \"type\": 1\n",
      "    },\n",
      "    \"visibility\": 10000,\n",
      "    \"weather\": [\n",
      "        {\n",
      "            \"description\": \"few clouds\",\n",
      "            \"icon\": \"02n\",\n",
      "            \"id\": 801,\n",
      "            \"main\": \"Clouds\"\n",
      "        }\n",
      "    ],\n",
      "    \"wind\": {\n",
      "        \"deg\": 290,\n",
      "        \"speed\": 2.1\n",
      "    }\n",
      "}\n"
     ]
    }
   ],
   "source": [
    "print(json.dumps(geo_data, indent=4, sort_keys=True))"
   ]
  },
  {
   "cell_type": "code",
   "execution_count": 99,
   "metadata": {},
   "outputs": [
    {
     "ename": "TypeError",
     "evalue": "not enough arguments for format string",
     "output_type": "error",
     "traceback": [
      "\u001b[1;31m---------------------------------------------------------------------------\u001b[0m",
      "\u001b[1;31mTypeError\u001b[0m                                 Traceback (most recent call last)",
      "\u001b[1;32m<ipython-input-99-240138d974c9>\u001b[0m in \u001b[0;36m<module>\u001b[1;34m()\u001b[0m\n\u001b[0;32m      4\u001b[0m \u001b[0mcloudiness\u001b[0m \u001b[1;33m=\u001b[0m \u001b[0mgeo_data\u001b[0m\u001b[1;33m[\u001b[0m\u001b[1;34m\"clouds\"\u001b[0m\u001b[1;33m]\u001b[0m\u001b[1;33m[\u001b[0m\u001b[1;34m\"all\"\u001b[0m\u001b[1;33m]\u001b[0m\u001b[1;33m\u001b[0m\u001b[0m\n\u001b[0;32m      5\u001b[0m \u001b[0mwind\u001b[0m \u001b[1;33m=\u001b[0m \u001b[0mgeo_data\u001b[0m\u001b[1;33m[\u001b[0m\u001b[1;34m\"wind\"\u001b[0m\u001b[1;33m]\u001b[0m\u001b[1;33m[\u001b[0m\u001b[1;34m\"speed\"\u001b[0m\u001b[1;33m]\u001b[0m\u001b[1;33m\u001b[0m\u001b[0m\n\u001b[1;32m----> 6\u001b[1;33m \u001b[0mprint\u001b[0m\u001b[1;33m(\u001b[0m\u001b[1;34m\"%s: %s, %s, %s, %s, %s, %s\"\u001b[0m \u001b[1;33m%\u001b[0m \u001b[1;33m(\u001b[0m\u001b[0mtarget_city\u001b[0m\u001b[1;33m,\u001b[0m \u001b[0mlat\u001b[0m\u001b[1;33m,\u001b[0m \u001b[0mTemp\u001b[0m\u001b[1;33m,\u001b[0m \u001b[0mhumidity\u001b[0m\u001b[1;33m,\u001b[0m \u001b[0mcloudiness\u001b[0m\u001b[1;33m,\u001b[0m \u001b[0mwind\u001b[0m\u001b[1;33m)\u001b[0m\u001b[1;33m)\u001b[0m\u001b[1;33m\u001b[0m\u001b[0m\n\u001b[0m",
      "\u001b[1;31mTypeError\u001b[0m: not enough arguments for format string"
     ]
    }
   ],
   "source": [
    "lat = geo_data[\"coord\"][\"lat\"]\n",
    "Temp = geo_data[\"main\"][\"temp\"]\n",
    "humidity = geo_data[\"main\"][\"humidity\"]\n",
    "cloudiness = geo_data[\"clouds\"][\"all\"]\n",
    "wind = geo_data[\"wind\"][\"speed\"]\n",
    "print(\"%s: %s, %s, %s, %s, %s, %s\" % (target_city, lat, Temp, humidity, cloudiness, wind))"
   ]
  },
  {
   "cell_type": "code",
   "execution_count": 100,
   "metadata": {},
   "outputs": [
    {
     "data": {
      "image/png": "[encoded data removed]",
      "text/plain": [
       "<matplotlib.figure.Figure at 0x20de3faf588>"
      ]
     },
     "metadata": {},
     "output_type": "display_data"
    }
   ],
   "source": [
    "plt.scatter([Temp],[lat], \n",
    "           edgecolor=\"black\", linewidths=1, marker=\"o\",\n",
    "            alpha=0.8, label=\"Weather\")\n",
    "\n",
    "plt.title(\"Temp vs. lat by Weather\")\n",
    "plt.ylabel(\"Temp\")\n",
    "plt.xlabel(\"lat\")\n",
    "plt.grid(True)\n",
    "plt.xlim([-2.5, 202])\n",
    "plt.ylim([-2.5, 110000])\n",
    "\n",
    "plt.savefig(\"Weather_Temp_Lat.png\")\n",
    "\n",
    "plt.show()"
   ]
  },
  {
   "cell_type": "code",
   "execution_count": 101,
   "metadata": {},
   "outputs": [
    {
     "data": {
      "image/png": "[encoded data removed]",
      "text/plain": [
       "<matplotlib.figure.Figure at 0x20de277cba8>"
      ]
     },
     "metadata": {},
     "output_type": "display_data"
    }
   ],
   "source": [
    "plt.scatter([humidity],[lat], \n",
    "           edgecolor=\"black\", linewidths=1, marker=\"o\",\n",
    "            alpha=0.8, label=\"Weather\")\n",
    "\n",
    "plt.title(\"humidity vs. lat by Weather\")\n",
    "plt.ylabel(\"humidity\")\n",
    "plt.xlabel(\"lat\")\n",
    "plt.grid(True)\n",
    "plt.xlim([-2.5, 202])\n",
    "plt.ylim([-2.5, 110000])\n",
    "\n",
    "plt.savefig(\"Weather_humidity_Lat.png\")\n",
    "\n",
    "plt.show()"
   ]
  },
  {
   "cell_type": "code",
   "execution_count": 102,
   "metadata": {},
   "outputs": [
    {
     "data": {
      "image/png": "[encoded data removed]",
      "text/plain": [
       "<matplotlib.figure.Figure at 0x20de2c500b8>"
      ]
     },
     "metadata": {},
     "output_type": "display_data"
    }
   ],
   "source": [
    "plt.scatter([cloudiness],[lat], \n",
    "           edgecolor=\"black\", linewidths=1, marker=\"o\",\n",
    "            alpha=0.8, label=\"Weather\")\n",
    "\n",
    "plt.title(\"cloudiness vs. lat by Weather\")\n",
    "plt.ylabel(\"cloudiness\")\n",
    "plt.xlabel(\"lat\")\n",
    "plt.grid(True)\n",
    "plt.xlim([-2.5, 202])\n",
    "plt.ylim([-2.5, 110000])\n",
    "\n",
    "plt.savefig(\"Weather_cloudiness_Lat.png\")\n",
    "\n",
    "plt.show()"
   ]
  },
  {
   "cell_type": "code",
   "execution_count": 103,
   "metadata": {},
   "outputs": [
    {
     "data": {
      "image/png": "[encoded data removed]",
      "text/plain": [
       "<matplotlib.figure.Figure at 0x20de2bff0f0>"
      ]
     },
     "metadata": {},
     "output_type": "display_data"
    }
   ],
   "source": [
    "plt.scatter([wind],[lat], \n",
    "           edgecolor=\"black\", linewidths=1, marker=\"o\",\n",
    "            alpha=0.8, label=\"Weather\")\n",
    "\n",
    "plt.title(\"wind vs. lat by Weather\")\n",
    "plt.ylabel(\"wind\")\n",
    "plt.xlabel(\"lat\")\n",
    "plt.grid(True)\n",
    "plt.xlim([-2.5, 202])\n",
    "plt.ylim([-2.5, 110000])\n",
    "\n",
    "plt.savefig(\"Weather_wind_Lat.png\")\n",
    "\n",
    "plt.show()"
   ]
  },
  {
   "cell_type": "code",
   "execution_count": null,
   "metadata": {
    "collapsed": true
   },
   "outputs": [],
   "source": []
  }
 ],
 "metadata": {
  "kernelspec": {
   "display_name": "Python 3",
   "language": "python",
   "name": "python3"
  },
  "language_info": {
   "codemirror_mode": {
    "name": "ipython",
    "version": 3
   },
   "file_extension": ".py",
   "mimetype": "text/x-python",
   "name": "python",
   "nbconvert_exporter": "python",
   "pygments_lexer": "ipython3",
   "version": "3.6.3"
  }
 },
 "nbformat": 4,
 "nbformat_minor": 2
}
